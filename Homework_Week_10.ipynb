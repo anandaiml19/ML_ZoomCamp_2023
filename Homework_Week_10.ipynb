{
  "nbformat": 4,
  "nbformat_minor": 0,
  "metadata": {
    "colab": {
      "provenance": []
    },
    "kernelspec": {
      "name": "python3",
      "display_name": "Python 3"
    },
    "language_info": {
      "name": "python"
    }
  },
  "cells": [
    {
      "cell_type": "markdown",
      "source": [
        "git clone https://github.com/DataTalksClub/machine-learning-zoomcamp.git"
      ],
      "metadata": {
        "id": "9tJfWQNSiSKa"
      }
    },
    {
      "cell_type": "markdown",
      "source": [
        "docker build -t zoomcamp-model:hw10 ."
      ],
      "metadata": {
        "id": "_jvkcFORieCg"
      }
    },
    {
      "cell_type": "markdown",
      "source": [
        "docker run -it --rm -p 9696:9696 zoomcamp-model:hw10"
      ],
      "metadata": {
        "id": "NnsBa1w7ihIV"
      }
    },
    {
      "cell_type": "markdown",
      "source": [
        "python q6_test.py"
      ],
      "metadata": {
        "id": "1qOWn0-_imbd"
      }
    },
    {
      "cell_type": "markdown",
      "source": [
        "{'get_credit': True, 'get_credit_probability': 0.726936946355423}"
      ],
      "metadata": {
        "id": "sgbGFr5viqzm"
      }
    },
    {
      "cell_type": "markdown",
      "source": [
        "kind create cluster"
      ],
      "metadata": {
        "id": "cFuYr0hni6nw"
      }
    },
    {
      "cell_type": "markdown",
      "source": [
        "kubectl cluster-info"
      ],
      "metadata": {
        "id": "nz5yy5fHi_2H"
      }
    },
    {
      "cell_type": "markdown",
      "source": [
        "kind version 0.20.0"
      ],
      "metadata": {
        "id": "9I47CUOqjCJZ"
      }
    },
    {
      "cell_type": "markdown",
      "source": [
        "cluster ip -  10.96.0.1\n"
      ],
      "metadata": {
        "id": "4zhqw_HnjSmI"
      }
    },
    {
      "cell_type": "markdown",
      "source": [
        "kind load docker-image"
      ],
      "metadata": {
        "id": "p5F4wD7ojUZX"
      }
    },
    {
      "cell_type": "markdown",
      "source": [
        "apiVersion: apps/v1\n",
        "kind: Deployment\n",
        "metadata:\n",
        "  name: credit\n",
        "spec:\n",
        "  selector:\n",
        "    matchLabels:\n",
        "      app: credit\n",
        "  replicas: 1\n",
        "  template:\n",
        "    metadata:\n",
        "      labels:\n",
        "        app: credit\n",
        "    spec:\n",
        "      containers:\n",
        "      - name: credit\n",
        "        image: <Image>\n",
        "        resources:\n",
        "          requests:\n",
        "            memory: \"64Mi\"\n",
        "            cpu: \"100m\"            \n",
        "          limits:\n",
        "            memory: <Memory>\n",
        "            cpu: <CPU>\n",
        "        ports:\n",
        "        - containerPort: <Port>"
      ],
      "metadata": {
        "id": "j_gYe0ShjZ7d"
      }
    },
    {
      "cell_type": "markdown",
      "source": [
        "containerPort: 9696"
      ],
      "metadata": {
        "id": "xDMuSh-6jjRh"
      }
    },
    {
      "cell_type": "markdown",
      "source": [
        "apiVersion: v1\n",
        "kind: Service\n",
        "metadata:\n",
        "  name: <Service name>\n",
        "spec:\n",
        "  type: LoadBalancer\n",
        "  selector:\n",
        "    app: <???>\n",
        "  ports:\n",
        "  - port: 80\n",
        "    targetPort: <PORT>"
      ],
      "metadata": {
        "id": "1pfZ05t_jm7x"
      }
    },
    {
      "cell_type": "markdown",
      "source": [
        "\n",
        "credit"
      ],
      "metadata": {
        "id": "P9BtT9zFjpdg"
      }
    }
  ]
}